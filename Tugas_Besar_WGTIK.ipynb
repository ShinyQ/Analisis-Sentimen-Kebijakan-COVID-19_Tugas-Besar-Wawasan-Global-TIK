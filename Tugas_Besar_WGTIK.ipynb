{
  "nbformat": 4,
  "nbformat_minor": 0,
  "metadata": {
    "colab": {
      "name": "Tugas Besar WGTIK.ipynb",
      "provenance": [],
      "collapsed_sections": [],
      "authorship_tag": "ABX9TyOAFhY1Jh1V22Pf4Cn5QGV5"
    },
    "kernelspec": {
      "name": "python3",
      "display_name": "Python 3"
    }
  },
  "cells": [
    {
      "cell_type": "markdown",
      "metadata": {
        "id": "ZSdJMsgPQo7o"
      },
      "source": [
        "# **Tugas Besar Wawasan Global TIK**\r\n",
        "\r\n",
        "> **Analisis Sentimen Kebijakan Pemerintah Mengenai Vaksin COVID-19 Di Indonesia Menggunakan Metode Naive Bayes Classifier Pada Sosial Media Twitter**\r\n",
        "\r\n",
        "<br>\r\n",
        "\r\n",
        "**Oleh Kelompok 152 :**\r\n",
        "1. Fadhlurrahman Akbar Nasution (1301194258) / IF-42-GAB01\r\n",
        "2. Firdaus Putra Kurniyanto (1301190385) / IF-42-GAB01\r\n",
        "3. Ignasius Nindra Karisma Forestyanto  (1301194138)  / IF-42-GAB02\r\n",
        "4. Kurniadi Ahmad Wijaya (1301194024) / IF-42-GAB01\r\n",
        "5. Priyan Fadhil Supriyadi (1301190442) / IF-42-GAB01\r\n",
        "\r\n",
        "<br>\r\n",
        "\r\n",
        "**Penjelasan Projek :**\r\n",
        "\r\n",
        "Adapun pada penelitian menekankan kepada sentimen masyarakat terhadap kebijakan pemerintah mengenai vaksin COVID-19. Proses analisisnya akan dilakukan berdasarkan tweet yang menyertakan tagar vaksin dan pencarian di twitter dengan keyword vaksin covid 19.\r\n",
        "\r\n",
        "<br>\r\n"
      ]
    }
  ]
}